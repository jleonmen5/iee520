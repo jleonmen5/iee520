{
 "cells": [
  {
   "cell_type": "code",
   "execution_count": null,
   "metadata": {},
   "outputs": [],
   "source": [
    "#Group 3. Miniproject 3. Oct 21 2020."
   ]
  },
  {
   "cell_type": "code",
   "execution_count": 3,
   "metadata": {},
   "outputs": [],
   "source": [
    "# Importing Libraries\n",
    "import numpy as np\n",
    "import pandas as pd\n",
    "import matplotlib.pyplot as plt\n",
    "\n",
    "from sklearn.svm import SVC\n",
    "\n",
    "from sklearn import metrics\n",
    "from sklearn.metrics import plot_confusion_matrix\n",
    "from sklearn import model_selection\n",
    "from sklearn.model_selection import train_test_split\n",
    "\n",
    "from sklearn.preprocessing import StandardScaler\n",
    "from sklearn.preprocessing import Binarizer\n",
    "from sklearn.model_selection import KFold\n",
    "from sklearn.model_selection import GridSearchCV\n",
    "\n",
    "#Visualization Setup\n",
    "get_ipython().run_line_magic('matplotlib', 'inline')\n",
    "plt.rcParams[\"figure.figsize\"] = (15,15)"
   ]
  },
  {
   "cell_type": "code",
   "execution_count": 4,
   "metadata": {},
   "outputs": [],
   "source": [
    "#load the data\n",
    "\n",
    "names=['Pregnancies', 'Glucose', 'BloodPressure', \n",
    "       'SkinThickness', 'Insulin', 'BMI',\n",
    "       'DiabetesPedigreeFunction', 'Age', 'Class']\n",
    "\n",
    "df = pd.read_csv('https://gist.githubusercontent.com/ktisha/c21e73a1bd1700294ef790c56c8aec1f/raw/819b69b5736821ccee93d05b51de0510bea00294/pima-indians-diabetes.csv', skiprows=9, header=None, names=names)"
   ]
  },
  {
   "cell_type": "code",
   "execution_count": 5,
   "metadata": {},
   "outputs": [],
   "source": [
    "# Remove missing values\n",
    "df = df[df['Glucose'] != 0]\n",
    "df = df[df['BloodPressure'] != 0]\n",
    "df = df[df['SkinThickness'] != 0]\n",
    "df = df[df['Insulin'] != 0]\n",
    "df = df[df['BMI'] != 0]\n",
    "df = df[df['Age'] != 0]"
   ]
  },
  {
   "cell_type": "code",
   "execution_count": 7,
   "metadata": {},
   "outputs": [],
   "source": [
    "#changing the dataframe to numpy array and assigning X and y\n",
    "data = df.values\n",
    "\n",
    "y = data[:, -1] # all the rows and the last column\n",
    "x = data[:, :-1] # all the rows and all the columns except the last\n",
    "\n",
    "#Split Data 80/20\n",
    "x_train, x_test, y_train, y_test = train_test_split(x,y, test_size= 0.20, random_state=3)\n",
    "\n",
    "#Create Scaler\n",
    "scaler = StandardScaler()\n",
    "scaler.fit(x_train)\n",
    "x_train = scaler.transform(x_train)\n",
    "x_test = scaler.transform(x_test)"
   ]
  },
  {
   "cell_type": "code",
   "execution_count": 25,
   "metadata": {},
   "outputs": [],
   "source": [
    "# Initializing a model\n",
    "\n",
    "model = SVC(kernel='rbf', gamma='auto', class_weight='balanced', random_state=3)"
   ]
  },
  {
   "cell_type": "code",
   "execution_count": 10,
   "metadata": {},
   "outputs": [
    {
     "name": "stdout",
     "output_type": "stream",
     "text": [
      "Accuracy:  0.7468354430379747\n"
     ]
    }
   ],
   "source": [
    "# Training the model\n",
    "\n",
    "model.fit(x_train, y_train)\n",
    "y_hat = model.predict(x_test)\n",
    "print(\"Accuracy: \", metrics.accuracy_score(y_test, y_hat))"
   ]
  },
  {
   "cell_type": "code",
   "execution_count": 11,
   "metadata": {},
   "outputs": [
    {
     "data": {
      "text/plain": [
       "<sklearn.metrics._plot.confusion_matrix.ConfusionMatrixDisplay at 0x1ea7f7331c0>"
      ]
     },
     "execution_count": 11,
     "metadata": {},
     "output_type": "execute_result"
    },
    {
     "data": {
      "image/png": "[encoded data removed]",
      "text/plain": [
       "<Figure size 1080x1080 with 2 Axes>"
      ]
     },
     "metadata": {
      "needs_background": "light"
     },
     "output_type": "display_data"
    }
   ],
   "source": [
    "#Confusion Matrix\n",
    "plot_confusion_matrix(model,x_test,y_test, cmap=plt.cm.Blues)"
   ]
  },
  {
   "cell_type": "code",
   "execution_count": 12,
   "metadata": {},
   "outputs": [],
   "source": [
    "# Create Scaler for Cross Validation\n",
    "scaler = StandardScaler()\n",
    "scaler.fit(x)\n",
    "x = scaler.transform(x)\n"
   ]
  },
  {
   "cell_type": "code",
   "execution_count": 35,
   "metadata": {},
   "outputs": [
    {
     "name": "stdout",
     "output_type": "stream",
     "text": [
      "Accuracy:  0.7704081632653061\n",
      "              precision    recall  f1-score   support\n",
      "\n",
      "         0.0       0.86      0.78      0.82       262\n",
      "         1.0       0.63      0.75      0.69       130\n",
      "\n",
      "    accuracy                           0.77       392\n",
      "   macro avg       0.75      0.77      0.75       392\n",
      "weighted avg       0.79      0.77      0.77       392\n",
      "\n"
     ]
    }
   ],
   "source": [
    "# Cross validation\n",
    "kfold = KFold(n_splits=5, shuffle=True, random_state=3)\n",
    "\n",
    "y_prob_cv = np.zeros(y.shape)\n",
    "y_hat_cv = np.zeros(y.shape)\n",
    "\n",
    "\n",
    "\n",
    "for train, test in kfold.split(x,y):    \n",
    "    model_cv = SVC(kernel='rbf', gamma=\"auto\" ,probability=True, class_weight='balanced', random_state=3)\n",
    "    \n",
    "    model_cv.fit(x[train], y[train])\n",
    "    y_hat_cv[test] = model_cv.predict(x[test])\n",
    "    y_prob_cv[test] = model_cv.predict_proba(x[test])[:, 1]\n",
    "    \n",
    "\n",
    "print(\"Accuracy: \", metrics.accuracy_score(y, y_hat_cv))\n",
    "print(metrics.classification_report(y, y_hat_cv))\n",
    "\n"
   ]
  },
  {
   "cell_type": "code",
   "execution_count": 34,
   "metadata": {},
   "outputs": [
    {
     "name": "stdout",
     "output_type": "stream",
     "text": [
      "Optimal parameters: {'C': 10, 'gamma': 0.001}\n",
      "Accuracy:  0.759493670886076\n"
     ]
    }
   ],
   "source": [
    "# New model Using Gridsearch\n",
    "\n",
    "#Split Data 80/20\n",
    "x_train, x_test, y_train, y_test = train_test_split(x,y, test_size= 0.20, random_state=3)\n",
    "\n",
    "#Create Scaler\n",
    "scaler = StandardScaler()\n",
    "scaler.fit(x_train)\n",
    "x_train = scaler.transform(x_train)\n",
    "x_test = scaler.transform(x_test)\n",
    "\n",
    "# Implemeting gridsearch to find optimal C and gamma\n",
    "modelGS = GridSearchCV(SVC(kernel='rbf', random_state=3, class_weight = 'balanced', probability=True), param_grid={'C': [10**c for c in range(-3, 4)],'gamma': [10**g for g in range(-3, 4)]})\n",
    "\n",
    "modelGS.fit(x_train, y_train)\n",
    "print('Optimal parameters:', modelGS.best_params_)\n",
    "y_grid_hat = modelGS.predict(x_test)\n",
    "y_grid_prob = modelGS.predict_proba(x_test)[:, 1]\n",
    "\n",
    "# Evaluate model with optimal parameters:\n",
    "print(\"Accuracy: \", metrics.accuracy_score(y_test, y_grid_hat))"
   ]
  }
 ],
 "metadata": {
  "kernelspec": {
   "display_name": "Python 3",
   "language": "python",
   "name": "python3"
  },
  "language_info": {
   "codemirror_mode": {
    "name": "ipython",
    "version": 3
   },
   "file_extension": ".py",
   "mimetype": "text/x-python",
   "name": "python",
   "nbconvert_exporter": "python",
   "pygments_lexer": "ipython3",
   "version": "3.8.5"
  }
 },
 "nbformat": 4,
 "nbformat_minor": 4
}
