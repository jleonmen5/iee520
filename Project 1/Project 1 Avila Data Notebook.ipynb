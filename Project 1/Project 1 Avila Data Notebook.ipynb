{
 "cells": [
  {
   "cell_type": "markdown",
   "metadata": {},
   "source": [
    "#Project 1"
   ]
  },
  {
   "cell_type": "code",
   "execution_count": 1,
   "metadata": {},
   "outputs": [],
   "source": [
    "#Import libraries\n",
    "import pandas as pd\n",
    "from sklearn.naive_bayes import GaussianNB\n",
    "import matplotlib.pyplot as plt\n",
    "from sklearn import metrics\n",
    "from sklearn.metrics import plot_confusion_matrix\n",
    "from sklearn.metrics import plot_roc_curve\n",
    "from sklearn.model_selection import train_test_split\n",
    "from sklearn.model_selection import KFold\n"
   ]
  },
  {
   "cell_type": "code",
   "execution_count": 2,
   "metadata": {},
   "outputs": [],
   "source": [
    "%matplotlib inline"
   ]
  },
  {
   "cell_type": "code",
   "execution_count": 3,
   "metadata": {},
   "outputs": [
    {
     "data": {
      "text/html": [
       "<div>\n",
       "<style scoped>\n",
       "    .dataframe tbody tr th:only-of-type {\n",
       "        vertical-align: middle;\n",
       "    }\n",
       "\n",
       "    .dataframe tbody tr th {\n",
       "        vertical-align: top;\n",
       "    }\n",
       "\n",
       "    .dataframe thead th {\n",
       "        text-align: right;\n",
       "    }\n",
       "</style>\n",
       "<table border=\"1\" class=\"dataframe\">\n",
       "  <thead>\n",
       "    <tr style=\"text-align: right;\">\n",
       "      <th></th>\n",
       "      <th>Intercolumnar distance</th>\n",
       "      <th>upper margin</th>\n",
       "      <th>lower margin</th>\n",
       "      <th>exploitation</th>\n",
       "      <th>row number</th>\n",
       "      <th>modular ratio</th>\n",
       "      <th>interlinear spacing</th>\n",
       "      <th>weight</th>\n",
       "      <th>peak number</th>\n",
       "      <th>modular ratio/ interlinear spacing</th>\n",
       "      <th>Class: A, B, C, D, E, F, G, H, I, W, X, Y</th>\n",
       "    </tr>\n",
       "  </thead>\n",
       "  <tbody>\n",
       "    <tr>\n",
       "      <th>0</th>\n",
       "      <td>0.266074</td>\n",
       "      <td>-0.165620</td>\n",
       "      <td>0.320980</td>\n",
       "      <td>0.483299</td>\n",
       "      <td>0.172340</td>\n",
       "      <td>0.273364</td>\n",
       "      <td>0.371178</td>\n",
       "      <td>0.929823</td>\n",
       "      <td>0.251173</td>\n",
       "      <td>0.159345</td>\n",
       "      <td>A</td>\n",
       "    </tr>\n",
       "    <tr>\n",
       "      <th>1</th>\n",
       "      <td>0.130292</td>\n",
       "      <td>0.870736</td>\n",
       "      <td>-3.210528</td>\n",
       "      <td>0.062493</td>\n",
       "      <td>0.261718</td>\n",
       "      <td>1.436060</td>\n",
       "      <td>1.465940</td>\n",
       "      <td>0.636203</td>\n",
       "      <td>0.282354</td>\n",
       "      <td>0.515587</td>\n",
       "      <td>A</td>\n",
       "    </tr>\n",
       "    <tr>\n",
       "      <th>2</th>\n",
       "      <td>-0.116585</td>\n",
       "      <td>0.069915</td>\n",
       "      <td>0.068476</td>\n",
       "      <td>-0.783147</td>\n",
       "      <td>0.261718</td>\n",
       "      <td>0.439463</td>\n",
       "      <td>-0.081827</td>\n",
       "      <td>-0.888236</td>\n",
       "      <td>-0.123005</td>\n",
       "      <td>0.582939</td>\n",
       "      <td>A</td>\n",
       "    </tr>\n",
       "    <tr>\n",
       "      <th>3</th>\n",
       "      <td>0.031541</td>\n",
       "      <td>0.297600</td>\n",
       "      <td>-3.210528</td>\n",
       "      <td>-0.583590</td>\n",
       "      <td>-0.721442</td>\n",
       "      <td>-0.307984</td>\n",
       "      <td>0.710932</td>\n",
       "      <td>1.051693</td>\n",
       "      <td>0.594169</td>\n",
       "      <td>-0.533994</td>\n",
       "      <td>A</td>\n",
       "    </tr>\n",
       "    <tr>\n",
       "      <th>4</th>\n",
       "      <td>0.229043</td>\n",
       "      <td>0.807926</td>\n",
       "      <td>-0.052442</td>\n",
       "      <td>0.082634</td>\n",
       "      <td>0.261718</td>\n",
       "      <td>0.148790</td>\n",
       "      <td>0.635431</td>\n",
       "      <td>0.051062</td>\n",
       "      <td>0.032902</td>\n",
       "      <td>-0.086652</td>\n",
       "      <td>F</td>\n",
       "    </tr>\n",
       "  </tbody>\n",
       "</table>\n",
       "</div>"
      ],
      "text/plain": [
       "   Intercolumnar distance   upper margin    lower margin   exploitation   \\\n",
       "0                 0.266074      -0.165620        0.320980       0.483299   \n",
       "1                 0.130292       0.870736       -3.210528       0.062493   \n",
       "2                -0.116585       0.069915        0.068476      -0.783147   \n",
       "3                 0.031541       0.297600       -3.210528      -0.583590   \n",
       "4                 0.229043       0.807926       -0.052442       0.082634   \n",
       "\n",
       "   row number   modular ratio   interlinear spacing    weight    peak number   \\\n",
       "0     0.172340        0.273364              0.371178  0.929823       0.251173   \n",
       "1     0.261718        1.436060              1.465940  0.636203       0.282354   \n",
       "2     0.261718        0.439463             -0.081827 -0.888236      -0.123005   \n",
       "3    -0.721442       -0.307984              0.710932  1.051693       0.594169   \n",
       "4     0.261718        0.148790              0.635431  0.051062       0.032902   \n",
       "\n",
       "   modular ratio/ interlinear spacing  \\\n",
       "0                            0.159345   \n",
       "1                            0.515587   \n",
       "2                            0.582939   \n",
       "3                           -0.533994   \n",
       "4                           -0.086652   \n",
       "\n",
       "  Class: A, B, C, D, E, F, G, H, I, W, X, Y  \n",
       "0                                         A  \n",
       "1                                         A  \n",
       "2                                         A  \n",
       "3                                         A  \n",
       "4                                         F  "
      ]
     },
     "execution_count": 3,
     "metadata": {},
     "output_type": "execute_result"
    }
   ],
   "source": [
    "#Import data\n",
    "df = pd.read_csv(\"Avila-DataSet for miniprojects.csv\")\n",
    "df.head()"
   ]
  },
  {
   "cell_type": "code",
   "execution_count": 4,
   "metadata": {},
   "outputs": [
    {
     "data": {
      "text/plain": [
       "Index(['Intercolumnar distance ', 'upper margin ', ' lower margin ',\n",
       "       'exploitation ', 'row number ', 'modular ratio ',\n",
       "       'interlinear spacing ', 'weight ', ' peak number ',\n",
       "       'modular ratio/ interlinear spacing',\n",
       "       'Class: A, B, C, D, E, F, G, H, I, W, X, Y'],\n",
       "      dtype='object')"
      ]
     },
     "execution_count": 4,
     "metadata": {},
     "output_type": "execute_result"
    }
   ],
   "source": [
    "df.columns"
   ]
  },
  {
   "cell_type": "code",
   "execution_count": 5,
   "metadata": {
    "tags": []
   },
   "outputs": [
    {
     "name": "stdout",
     "output_type": "stream",
     "text": [
      "<class 'pandas.core.frame.DataFrame'>\n",
      "RangeIndex: 20867 entries, 0 to 20866\n",
      "Data columns (total 11 columns):\n",
      " #   Column                                     Non-Null Count  Dtype  \n",
      "---  ------                                     --------------  -----  \n",
      " 0   Intercolumnar distance                     20867 non-null  float64\n",
      " 1   upper margin                               20867 non-null  float64\n",
      " 2    lower margin                              20867 non-null  float64\n",
      " 3   exploitation                               20867 non-null  float64\n",
      " 4   row number                                 20867 non-null  float64\n",
      " 5   modular ratio                              20867 non-null  float64\n",
      " 6   interlinear spacing                        20867 non-null  float64\n",
      " 7   weight                                     20867 non-null  float64\n",
      " 8    peak number                               20867 non-null  float64\n",
      " 9   modular ratio/ interlinear spacing         20867 non-null  float64\n",
      " 10  Class: A, B, C, D, E, F, G, H, I, W, X, Y  20867 non-null  object \n",
      "dtypes: float64(10), object(1)\n",
      "memory usage: 1.8+ MB\n"
     ]
    }
   ],
   "source": [
    "df.info()"
   ]
  },
  {
   "cell_type": "code",
   "execution_count": 6,
   "metadata": {},
   "outputs": [
    {
     "data": {
      "text/html": [
       "<div>\n",
       "<style scoped>\n",
       "    .dataframe tbody tr th:only-of-type {\n",
       "        vertical-align: middle;\n",
       "    }\n",
       "\n",
       "    .dataframe tbody tr th {\n",
       "        vertical-align: top;\n",
       "    }\n",
       "\n",
       "    .dataframe thead th {\n",
       "        text-align: right;\n",
       "    }\n",
       "</style>\n",
       "<table border=\"1\" class=\"dataframe\">\n",
       "  <thead>\n",
       "    <tr style=\"text-align: right;\">\n",
       "      <th></th>\n",
       "      <th>Intercolumnar distance</th>\n",
       "      <th>upper margin</th>\n",
       "      <th>lower margin</th>\n",
       "      <th>exploitation</th>\n",
       "      <th>row number</th>\n",
       "      <th>modular ratio</th>\n",
       "      <th>interlinear spacing</th>\n",
       "      <th>weight</th>\n",
       "      <th>peak number</th>\n",
       "      <th>modular ratio/ interlinear spacing</th>\n",
       "    </tr>\n",
       "  </thead>\n",
       "  <tbody>\n",
       "    <tr>\n",
       "      <th>count</th>\n",
       "      <td>2.086700e+04</td>\n",
       "      <td>20867.000000</td>\n",
       "      <td>20867.000000</td>\n",
       "      <td>20867.000000</td>\n",
       "      <td>2.086700e+04</td>\n",
       "      <td>20867.000000</td>\n",
       "      <td>20867.000000</td>\n",
       "      <td>20867.000000</td>\n",
       "      <td>20867.000000</td>\n",
       "      <td>20867.000000</td>\n",
       "    </tr>\n",
       "    <tr>\n",
       "      <th>mean</th>\n",
       "      <td>-3.306656e-09</td>\n",
       "      <td>0.018498</td>\n",
       "      <td>0.002329</td>\n",
       "      <td>0.000115</td>\n",
       "      <td>5.697992e-08</td>\n",
       "      <td>0.002540</td>\n",
       "      <td>0.003977</td>\n",
       "      <td>0.000028</td>\n",
       "      <td>0.002108</td>\n",
       "      <td>0.000069</td>\n",
       "    </tr>\n",
       "    <tr>\n",
       "      <th>std</th>\n",
       "      <td>1.000007e+00</td>\n",
       "      <td>2.853117</td>\n",
       "      <td>1.058203</td>\n",
       "      <td>0.999997</td>\n",
       "      <td>9.999948e-01</td>\n",
       "      <td>1.065179</td>\n",
       "      <td>1.153325</td>\n",
       "      <td>1.000003</td>\n",
       "      <td>1.045362</td>\n",
       "      <td>1.000010</td>\n",
       "    </tr>\n",
       "    <tr>\n",
       "      <th>min</th>\n",
       "      <td>-3.498799e+00</td>\n",
       "      <td>-2.426761</td>\n",
       "      <td>-3.210528</td>\n",
       "      <td>-5.440122</td>\n",
       "      <td>-4.922215e+00</td>\n",
       "      <td>-7.450257</td>\n",
       "      <td>-11.935457</td>\n",
       "      <td>-4.247781</td>\n",
       "      <td>-5.486218</td>\n",
       "      <td>-6.719324</td>\n",
       "    </tr>\n",
       "    <tr>\n",
       "      <th>25%</th>\n",
       "      <td>-1.289290e-01</td>\n",
       "      <td>-0.259834</td>\n",
       "      <td>0.064919</td>\n",
       "      <td>-0.527256</td>\n",
       "      <td>1.723400e-01</td>\n",
       "      <td>-0.598658</td>\n",
       "      <td>-0.044076</td>\n",
       "      <td>-0.543914</td>\n",
       "      <td>-0.372457</td>\n",
       "      <td>-0.515235</td>\n",
       "    </tr>\n",
       "    <tr>\n",
       "      <th>50%</th>\n",
       "      <td>5.622900e-02</td>\n",
       "      <td>-0.055704</td>\n",
       "      <td>0.217845</td>\n",
       "      <td>0.089437</td>\n",
       "      <td>2.617180e-01</td>\n",
       "      <td>-0.058835</td>\n",
       "      <td>0.220177</td>\n",
       "      <td>0.108279</td>\n",
       "      <td>0.064084</td>\n",
       "      <td>-0.025918</td>\n",
       "    </tr>\n",
       "    <tr>\n",
       "      <th>75%</th>\n",
       "      <td>2.043550e-01</td>\n",
       "      <td>0.203385</td>\n",
       "      <td>0.352988</td>\n",
       "      <td>0.643738</td>\n",
       "      <td>2.617180e-01</td>\n",
       "      <td>0.564038</td>\n",
       "      <td>0.446679</td>\n",
       "      <td>0.648813</td>\n",
       "      <td>0.500624</td>\n",
       "      <td>0.528425</td>\n",
       "    </tr>\n",
       "    <tr>\n",
       "      <th>max</th>\n",
       "      <td>1.181992e+01</td>\n",
       "      <td>386.000000</td>\n",
       "      <td>50.000000</td>\n",
       "      <td>3.987152</td>\n",
       "      <td>1.066121e+00</td>\n",
       "      <td>53.000000</td>\n",
       "      <td>83.000000</td>\n",
       "      <td>13.173081</td>\n",
       "      <td>44.000000</td>\n",
       "      <td>11.911338</td>\n",
       "    </tr>\n",
       "  </tbody>\n",
       "</table>\n",
       "</div>"
      ],
      "text/plain": [
       "       Intercolumnar distance   upper margin    lower margin   exploitation   \\\n",
       "count             2.086700e+04   20867.000000    20867.000000   20867.000000   \n",
       "mean             -3.306656e-09       0.018498        0.002329       0.000115   \n",
       "std               1.000007e+00       2.853117        1.058203       0.999997   \n",
       "min              -3.498799e+00      -2.426761       -3.210528      -5.440122   \n",
       "25%              -1.289290e-01      -0.259834        0.064919      -0.527256   \n",
       "50%               5.622900e-02      -0.055704        0.217845       0.089437   \n",
       "75%               2.043550e-01       0.203385        0.352988       0.643738   \n",
       "max               1.181992e+01     386.000000       50.000000       3.987152   \n",
       "\n",
       "        row number   modular ratio   interlinear spacing        weight   \\\n",
       "count  2.086700e+04    20867.000000          20867.000000  20867.000000   \n",
       "mean   5.697992e-08        0.002540              0.003977      0.000028   \n",
       "std    9.999948e-01        1.065179              1.153325      1.000003   \n",
       "min   -4.922215e+00       -7.450257            -11.935457     -4.247781   \n",
       "25%    1.723400e-01       -0.598658             -0.044076     -0.543914   \n",
       "50%    2.617180e-01       -0.058835              0.220177      0.108279   \n",
       "75%    2.617180e-01        0.564038              0.446679      0.648813   \n",
       "max    1.066121e+00       53.000000             83.000000     13.173081   \n",
       "\n",
       "        peak number   modular ratio/ interlinear spacing  \n",
       "count   20867.000000                        20867.000000  \n",
       "mean        0.002108                            0.000069  \n",
       "std         1.045362                            1.000010  \n",
       "min        -5.486218                           -6.719324  \n",
       "25%        -0.372457                           -0.515235  \n",
       "50%         0.064084                           -0.025918  \n",
       "75%         0.500624                            0.528425  \n",
       "max        44.000000                           11.911338  "
      ]
     },
     "execution_count": 6,
     "metadata": {},
     "output_type": "execute_result"
    }
   ],
   "source": [
    "df.describe()"
   ]
  },
  {
   "cell_type": "code",
   "execution_count": 51,
   "metadata": {},
   "outputs": [
    {
     "data": {
      "text/html": [
       "<div>\n",
       "<style scoped>\n",
       "    .dataframe tbody tr th:only-of-type {\n",
       "        vertical-align: middle;\n",
       "    }\n",
       "\n",
       "    .dataframe tbody tr th {\n",
       "        vertical-align: top;\n",
       "    }\n",
       "\n",
       "    .dataframe thead th {\n",
       "        text-align: right;\n",
       "    }\n",
       "</style>\n",
       "<table border=\"1\" class=\"dataframe\">\n",
       "  <thead>\n",
       "    <tr style=\"text-align: right;\">\n",
       "      <th></th>\n",
       "      <th>Class: A, B, C, D, E, F, G, H, I, W, X, Y</th>\n",
       "      <th>Class Category</th>\n",
       "    </tr>\n",
       "  </thead>\n",
       "  <tbody>\n",
       "    <tr>\n",
       "      <th>0</th>\n",
       "      <td>A</td>\n",
       "      <td>0</td>\n",
       "    </tr>\n",
       "    <tr>\n",
       "      <th>1</th>\n",
       "      <td>A</td>\n",
       "      <td>0</td>\n",
       "    </tr>\n",
       "    <tr>\n",
       "      <th>2</th>\n",
       "      <td>A</td>\n",
       "      <td>0</td>\n",
       "    </tr>\n",
       "    <tr>\n",
       "      <th>3</th>\n",
       "      <td>A</td>\n",
       "      <td>0</td>\n",
       "    </tr>\n",
       "    <tr>\n",
       "      <th>4</th>\n",
       "      <td>F</td>\n",
       "      <td>5</td>\n",
       "    </tr>\n",
       "    <tr>\n",
       "      <th>...</th>\n",
       "      <td>...</td>\n",
       "      <td>...</td>\n",
       "    </tr>\n",
       "    <tr>\n",
       "      <th>20862</th>\n",
       "      <td>X</td>\n",
       "      <td>10</td>\n",
       "    </tr>\n",
       "    <tr>\n",
       "      <th>20863</th>\n",
       "      <td>G</td>\n",
       "      <td>6</td>\n",
       "    </tr>\n",
       "    <tr>\n",
       "      <th>20864</th>\n",
       "      <td>A</td>\n",
       "      <td>0</td>\n",
       "    </tr>\n",
       "    <tr>\n",
       "      <th>20865</th>\n",
       "      <td>F</td>\n",
       "      <td>5</td>\n",
       "    </tr>\n",
       "    <tr>\n",
       "      <th>20866</th>\n",
       "      <td>H</td>\n",
       "      <td>7</td>\n",
       "    </tr>\n",
       "  </tbody>\n",
       "</table>\n",
       "<p>20867 rows × 2 columns</p>\n",
       "</div>"
      ],
      "text/plain": [
       "      Class: A, B, C, D, E, F, G, H, I, W, X, Y  Class Category\n",
       "0                                             A               0\n",
       "1                                             A               0\n",
       "2                                             A               0\n",
       "3                                             A               0\n",
       "4                                             F               5\n",
       "...                                         ...             ...\n",
       "20862                                         X              10\n",
       "20863                                         G               6\n",
       "20864                                         A               0\n",
       "20865                                         F               5\n",
       "20866                                         H               7\n",
       "\n",
       "[20867 rows x 2 columns]"
      ]
     },
     "execution_count": 51,
     "metadata": {},
     "output_type": "execute_result"
    }
   ],
   "source": [
    "#Prep data for modeling\n",
    "x = df.drop(\"Class: A, B, C, D, E, F, G, H, I, W, X, Y\", axis = 1)\n",
    "\n",
    "list = df.columns.values.tolist()\n",
    "list = list[0:-1]\n",
    "y = df.drop(list, axis = 1)\n",
    "\n",
    "y['Class: A, B, C, D, E, F, G, H, I, W, X, Y'] = y['Class: A, B, C, D, E, F, G, H, I, W, X, Y'].astype('category')\n",
    "y['Class Category'] = y['Class: A, B, C, D, E, F, G, H, I, W, X, Y'].cat.codes\n",
    "\n"
   ]
  },
  {
   "cell_type": "code",
   "execution_count": 8,
   "metadata": {},
   "outputs": [],
   "source": [
    "#Model the data\n",
    "model = GaussianNB()\n",
    "model.fit(x,y)\n",
    "yhat = model.predict(x)"
   ]
  },
  {
   "cell_type": "code",
   "execution_count": 9,
   "metadata": {},
   "outputs": [
    {
     "data": {
      "text/plain": [
       "0.3002827430871711"
      ]
     },
     "execution_count": 9,
     "metadata": {},
     "output_type": "execute_result"
    }
   ],
   "source": [
    "#Evaluate the model\n",
    "metrics.accuracy_score(y,yhat)"
   ]
  },
  {
   "cell_type": "code",
   "execution_count": 10,
   "metadata": {
    "tags": []
   },
   "outputs": [
    {
     "name": "stdout",
     "output_type": "stream",
     "text": [
      "              precision    recall  f1-score   support\n",
      "\n",
      "           A       0.55      0.07      0.13      8572\n",
      "           B       1.00      1.00      1.00        10\n",
      "           C       0.05      0.14      0.08       206\n",
      "           D       0.14      0.25      0.18       705\n",
      "           E       0.29      0.09      0.14      2190\n",
      "           F       0.29      0.44      0.35      3923\n",
      "           G       0.16      0.70      0.26       893\n",
      "           H       0.22      0.80      0.35      1039\n",
      "           I       0.73      0.66      0.70      1663\n",
      "           W       0.13      0.53      0.21        89\n",
      "           X       0.50      0.64      0.56      1044\n",
      "           Y       0.50      0.44      0.47       533\n",
      "\n",
      "    accuracy                           0.30     20867\n",
      "   macro avg       0.38      0.48      0.37     20867\n",
      "weighted avg       0.43      0.30      0.26     20867\n",
      "\n"
     ]
    }
   ],
   "source": [
    "print(metrics.classification_report(y,yhat))"
   ]
  },
  {
   "cell_type": "code",
   "execution_count": 11,
   "metadata": {},
   "outputs": [
    {
     "data": {
      "text/plain": [
       "<sklearn.metrics._plot.confusion_matrix.ConfusionMatrixDisplay at 0x17c5edc2910>"
      ]
     },
     "execution_count": 11,
     "metadata": {},
     "output_type": "execute_result"
    },
    {
     "data": {
      "image/png": "[encoded data removed]",
      "text/plain": [
       "<Figure size 432x288 with 2 Axes>"
      ]
     },
     "metadata": {
      "needs_background": "light"
     },
     "output_type": "display_data"
    }
   ],
   "source": [
    "plot_confusion_matrix(model,x,y)"
   ]
  },
  {
   "cell_type": "code",
   "execution_count": 12,
   "metadata": {},
   "outputs": [],
   "source": [
    "# 80 / 20 Split \n",
    "x_train, x_test, y_train, y_test = train_test_split(x,y,test_size = 0.2, random_state = 520)"
   ]
  },
  {
   "cell_type": "code",
   "execution_count": 13,
   "metadata": {},
   "outputs": [],
   "source": [
    "model_split = GaussianNB()\n",
    "model_split.fit(x_train,y_train)\n",
    "yhat_split = model.predict(x_test)"
   ]
  },
  {
   "cell_type": "code",
   "execution_count": 14,
   "metadata": {},
   "outputs": [
    {
     "data": {
      "text/plain": [
       "0.29587925251557257"
      ]
     },
     "execution_count": 14,
     "metadata": {},
     "output_type": "execute_result"
    }
   ],
   "source": [
    "#Evaluate the model\n",
    "metrics.accuracy_score(y_test,yhat_split)"
   ]
  },
  {
   "cell_type": "code",
   "execution_count": 15,
   "metadata": {
    "tags": []
   },
   "outputs": [
    {
     "name": "stdout",
     "output_type": "stream",
     "text": [
      "              precision    recall  f1-score   support\n",
      "\n",
      "           A       0.53      0.07      0.12      1753\n",
      "           B       1.00      1.00      1.00         2\n",
      "           C       0.05      0.12      0.07        40\n",
      "           D       0.14      0.25      0.18       143\n",
      "           E       0.31      0.10      0.15       452\n",
      "           F       0.28      0.44      0.35       735\n",
      "           G       0.17      0.73      0.28       187\n",
      "           H       0.21      0.83      0.34       186\n",
      "           I       0.71      0.63      0.66       337\n",
      "           W       0.15      0.63      0.24        19\n",
      "           X       0.49      0.67      0.56       213\n",
      "           Y       0.43      0.39      0.41       107\n",
      "\n",
      "    accuracy                           0.30      4174\n",
      "   macro avg       0.37      0.49      0.36      4174\n",
      "weighted avg       0.42      0.30      0.26      4174\n",
      "\n"
     ]
    }
   ],
   "source": [
    "print(metrics.classification_report(y_test,yhat_split))"
   ]
  },
  {
   "cell_type": "code",
   "execution_count": 29,
   "metadata": {},
   "outputs": [
    {
     "data": {
      "text/html": [
       "<div>\n",
       "<style scoped>\n",
       "    .dataframe tbody tr th:only-of-type {\n",
       "        vertical-align: middle;\n",
       "    }\n",
       "\n",
       "    .dataframe tbody tr th {\n",
       "        vertical-align: top;\n",
       "    }\n",
       "\n",
       "    .dataframe thead th {\n",
       "        text-align: right;\n",
       "    }\n",
       "</style>\n",
       "<table border=\"1\" class=\"dataframe\">\n",
       "  <thead>\n",
       "    <tr style=\"text-align: right;\">\n",
       "      <th></th>\n",
       "      <th>Labels</th>\n",
       "    </tr>\n",
       "  </thead>\n",
       "  <tbody>\n",
       "    <tr>\n",
       "      <th>count</th>\n",
       "      <td>0</td>\n",
       "    </tr>\n",
       "    <tr>\n",
       "      <th>unique</th>\n",
       "      <td>0</td>\n",
       "    </tr>\n",
       "    <tr>\n",
       "      <th>top</th>\n",
       "      <td>NaN</td>\n",
       "    </tr>\n",
       "    <tr>\n",
       "      <th>freq</th>\n",
       "      <td>NaN</td>\n",
       "    </tr>\n",
       "  </tbody>\n",
       "</table>\n",
       "</div>"
      ],
      "text/plain": [
       "       Labels\n",
       "count       0\n",
       "unique      0\n",
       "top       NaN\n",
       "freq      NaN"
      ]
     },
     "execution_count": 29,
     "metadata": {},
     "output_type": "execute_result"
    }
   ],
   "source": [
    "from sklearn import preprocessing \n",
    "y = pd.DataFrame(y, columns=['Labels'])\n",
    "y.describe()\n",
    "# le = preprocessing.LabelEncoder() \n",
    "# data_transform = y.apply(le.fit_transform) \n",
    "# data_transform = data_transform.to_numpy()"
   ]
  },
  {
   "cell_type": "code",
   "execution_count": null,
   "metadata": {},
   "outputs": [],
   "source": []
  },
  {
   "cell_type": "code",
   "execution_count": null,
   "metadata": {},
   "outputs": [],
   "source": []
  },
  {
   "cell_type": "code",
   "execution_count": null,
   "metadata": {
    "tags": []
   },
   "outputs": [],
   "source": [
    "#Cross validation\n",
    "kfold = KFold(n_splits=5, shuffle=True, random_state=520)\n",
    "\n",
    "for train, test in kfold.split(x,y):\n",
    "    model_cv = GaussianNB()\n",
    "    model_cv.fit(x.iloc[train], y.iloc[train])\n",
    "    print(model.predict(x.iloc[test]))\n",
    "    y_hat_cv.iloc[test] = model.predict(x.iloc[test])\n",
    "    probV = metrics.accuracy_score(y.iloc[test],y_hat_cv)\n",
    "    print(probV)"
   ]
  },
  {
   "cell_type": "code",
   "execution_count": null,
   "metadata": {},
   "outputs": [],
   "source": [
    "#Evaluate model\n",
    "metrics.accuracy_score(y.iloc[test],y_hat_cv)"
   ]
  },
  {
   "cell_type": "code",
   "execution_count": null,
   "metadata": {},
   "outputs": [],
   "source": [
    "#testing Kfold with dummy data\n",
    "\n",
    "df2 = pd.read_csv('dummy_data.csv')\n",
    "df2.head()\n",
    "x_dummy = df2.drop('Label', axis = 1)\n",
    "y_dummy = df2['Label']\n",
    "\n",
    "kfold_dummy = KFold(n_splits=5, shuffle=True, random_state=520)"
   ]
  },
  {
   "cell_type": "code",
   "execution_count": null,
   "metadata": {},
   "outputs": [],
   "source": []
  },
  {
   "cell_type": "code",
   "execution_count": null,
   "metadata": {},
   "outputs": [],
   "source": [
    "from sklearn.multiclass import OneVsRestClassifier\n",
    "from sklearn.metrics import roc_curve\n",
    "from sklearn.naive_bayes import GaussianNB\n",
    "\n",
    "clf = OneVsRestClassifier(GaussianNB())\n",
    "clf.fit(x_dummy.iloc[train], y_dummy.iloc[train])\n",
    "pred = clf.predict(x_dummy.iloc[test])\n",
    "pred_prob = clf.predict_proba(x_dummy.iloc[test])\n"
   ]
  },
  {
   "cell_type": "code",
   "execution_count": null,
   "metadata": {},
   "outputs": [],
   "source": []
  }
 ],
 "metadata": {
  "kernelspec": {
   "display_name": "Python 3",
   "language": "python",
   "name": "python3"
  },
  "language_info": {
   "codemirror_mode": {
    "name": "ipython",
    "version": 3
   },
   "file_extension": ".py",
   "mimetype": "text/x-python",
   "name": "python",
   "nbconvert_exporter": "python",
   "pygments_lexer": "ipython3",
   "version": "3.8.5"
  }
 },
 "nbformat": 4,
 "nbformat_minor": 4
}
